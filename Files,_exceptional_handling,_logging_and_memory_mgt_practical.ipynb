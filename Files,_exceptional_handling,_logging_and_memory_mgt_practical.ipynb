{
  "nbformat": 4,
  "nbformat_minor": 0,
  "metadata": {
    "colab": {
      "provenance": []
    },
    "kernelspec": {
      "name": "python3",
      "display_name": "Python 3"
    },
    "language_info": {
      "name": "python"
    }
  },
  "cells": [
    {
      "cell_type": "code",
      "execution_count": null,
      "metadata": {
        "id": "Ibi1abg8kd4F"
      },
      "outputs": [],
      "source": [
        "#QSN-1-How can you open a file for writing in Python and write a string to it.\n",
        "file = open(\"example.txt\", \"w\")\n",
        "\n",
        "# Write a string to the file\n",
        "file.write(\"My assignment task\")\n",
        "\n",
        "# Close the file\n",
        "file.close()\n"
      ]
    },
    {
      "cell_type": "code",
      "source": [
        "#QSN-2-Write a Python program to read the contents of a file and print each line.\n",
        "def read_file(filename):\n",
        "    try:\n",
        "        with open(filename, 'r') as file:\n",
        "            for line in file:\n",
        "                print(line.strip())\n",
        "    except FileNotFoundError:\n",
        "        print(f\"File '{filename}' not found.\")\n",
        "filename = 'example.txt'\n",
        "read_file(filename)\n"
      ],
      "metadata": {
        "colab": {
          "base_uri": "https://localhost:8080/"
        },
        "id": "iwvKJpYzlOZI",
        "outputId": "1dedaebf-325e-4199-caab-480fc7b4b90d"
      },
      "execution_count": null,
      "outputs": [
        {
          "output_type": "stream",
          "name": "stdout",
          "text": [
            "My assignment task\n"
          ]
        }
      ]
    },
    {
      "cell_type": "code",
      "source": [
        "#QSN-3-How would you handle a case where the file doesn't exist while trying to open it for reading.\n",
        "def read_file(filename):\n",
        "    try:\n",
        "        with open(filename, 'r') as file:\n",
        "            contents = file.read()\n",
        "            print(contents)\n",
        "    except FileNotFoundError:\n",
        "        print(f\"File '{filename}' not found.\")\n",
        "    except PermissionError:\n",
        "        print(f\"Permission denied to read file '{filename}'.\")\n",
        "    except Exception as e:\n",
        "        print(f\"An error occurred: {e}\")\n",
        "\n",
        "# Example usage\n",
        "filename = 'example1.txt'\n",
        "read_file(filename)\n",
        "\n"
      ],
      "metadata": {
        "colab": {
          "base_uri": "https://localhost:8080/"
        },
        "id": "it1w6-sllp7i",
        "outputId": "956d9972-7780-4f9a-972a-3bbddf9bf807"
      },
      "execution_count": null,
      "outputs": [
        {
          "output_type": "stream",
          "name": "stdout",
          "text": [
            "File 'example1.txt' not found.\n"
          ]
        }
      ]
    },
    {
      "cell_type": "code",
      "source": [
        "#QSN-4-Write a Python script that reads from one file and writes its content to another file.\n",
        "def copy_file(source_filename, destination_filename):\n",
        "    try:\n",
        "        with open(source_filename, 'r') as source_file:\n",
        "            with open(destination_filename, 'w') as destination_file:\n",
        "                destination_file.write(source_file.read())\n",
        "        print(f\"File '{source_filename}' copied to '{destination_filename}'\")\n",
        "    except FileNotFoundError:\n",
        "        print(f\"File '{source_filename}' not found.\")\n",
        "    except PermissionError:\n",
        "        print(f\"Permission denied to read file '{source_filename}' or write to file '{destination_filename}'\")\n",
        "    except Exception as e:\n",
        "        print(f\"An error occurred: {e}\")\n",
        "\n",
        "# Example usage\n",
        "source_filename = 'source.txt'\n",
        "destination_filename = 'destination.txt'\n",
        "copy_file(source_filename, destination_filename)"
      ],
      "metadata": {
        "colab": {
          "base_uri": "https://localhost:8080/"
        },
        "id": "QNS3rYI-mk-G",
        "outputId": "3b7b0b07-3096-42e5-dbc9-0351f0061c9e"
      },
      "execution_count": null,
      "outputs": [
        {
          "output_type": "stream",
          "name": "stdout",
          "text": [
            "File 'source.txt' not found.\n"
          ]
        }
      ]
    },
    {
      "cell_type": "code",
      "source": [
        "#QSN-5-How would you catch and handle division by zero error in Python.\n",
        "x=6\n",
        "y=0\n",
        "try:\n",
        " solution=x/y\n",
        "except ZeroDivisionError: print(\"division by zero!\")\n",
        "else:\n",
        " print(\"Answer is\",solution)"
      ],
      "metadata": {
        "colab": {
          "base_uri": "https://localhost:8080/"
        },
        "id": "7YN43rSdnF0X",
        "outputId": "90f5d4a9-7e8d-414a-b0b0-de1056345ffa"
      },
      "execution_count": null,
      "outputs": [
        {
          "output_type": "stream",
          "name": "stdout",
          "text": [
            "division by zero!\n"
          ]
        }
      ]
    },
    {
      "cell_type": "code",
      "source": [
        "#QSN-6-Write a Python program that logs an error message to a log file when a division by zero exception occurs'\n",
        "import logging\n",
        "\n",
        "logging.basicConfig(filename='error.log', level=logging.ERROR, format='%(asctime)s - %(levelname)s - %(message)s')\n",
        "\n",
        "def divide(x, y):\n",
        "    try:\n",
        "        result = x / y\n",
        "        print(f\"{x} divided by {y} is {result}\")\n",
        "    except ZeroDivisionError as e:\n",
        "        logging.error(f\"Error: {e}\")\n",
        "divide(10, 2)\n",
        "divide(10, 0)\n"
      ],
      "metadata": {
        "colab": {
          "base_uri": "https://localhost:8080/"
        },
        "id": "gm2WJRjcrZl4",
        "outputId": "0ca27669-6e2a-4674-9a38-c549a6e3514f"
      },
      "execution_count": null,
      "outputs": [
        {
          "output_type": "stream",
          "name": "stderr",
          "text": [
            "ERROR:root:Error: division by zero\n"
          ]
        },
        {
          "output_type": "stream",
          "name": "stdout",
          "text": [
            "10 divided by 2 is 5.0\n"
          ]
        }
      ]
    },
    {
      "cell_type": "code",
      "source": [
        "#QSN-7-How do you log information at different levels (INFO, ERROR, WARNING) in Python using the logging module.\n",
        "\n",
        "import logging\n",
        "logger = logging.getLogger(__name__)\n",
        "logger.setLevel(logging.DEBUG)\n",
        "logger.debug(\"This is a debug message\")\n",
        "logger.info(\"This is an info message\")\n",
        "logger.warning(\"This is a warning message\")\n",
        "logger.error(\"This is an error message\")\n",
        "logger.critical(\"This is a critical message\")\n"
      ],
      "metadata": {
        "colab": {
          "base_uri": "https://localhost:8080/"
        },
        "id": "ArBLn7D9sPRo",
        "outputId": "3a3ad9ca-a80a-4f20-eba1-1d8a42178a44"
      },
      "execution_count": null,
      "outputs": [
        {
          "output_type": "stream",
          "name": "stderr",
          "text": [
            "DEBUG:__main__:This is a debug message\n",
            "INFO:__main__:This is an info message\n",
            "WARNING:__main__:This is a warning message\n",
            "ERROR:__main__:This is an error message\n",
            "CRITICAL:__main__:This is a critical message\n"
          ]
        }
      ]
    },
    {
      "cell_type": "code",
      "source": [
        "#QSN-8-Write a program to handle a file opening error using exception handling.\n",
        "def read_file(filename):\n",
        "    try:\n",
        "        with open(filename, 'r') as file:\n",
        "            contents = file.read()\n",
        "            print(contents)\n",
        "    except FileNotFoundError:\n",
        "        print(f\"Error: File '{filename}' not found.\")\n",
        "    except PermissionError:\n",
        "        print(f\"Error: Permission denied to read file '{filename}'.\")\n",
        "    except Exception as e:\n",
        "        print(f\"An unexpected error occurred: {e}\")\n",
        "\n",
        "# Test the function\n",
        "filename = input(\"Enter the filename: \")\n",
        "read_file(filename)\n"
      ],
      "metadata": {
        "colab": {
          "base_uri": "https://localhost:8080/"
        },
        "id": "Tivf4FZ-sw-U",
        "outputId": "3c1106b4-86c9-40b0-d10e-e5e309ee4165"
      },
      "execution_count": null,
      "outputs": [
        {
          "output_type": "stream",
          "name": "stdout",
          "text": [
            "Enter the filename: my assignment\n",
            "Error: File 'my assignment' not found.\n"
          ]
        }
      ]
    },
    {
      "cell_type": "code",
      "source": [
        "#QSN-9-How can you read a file line by line and store its content in a list in Python.\n",
        "def read_file(filename):\n",
        "    try:\n",
        "        with open(filename, 'r') as file:\n",
        "            lines = [line.strip() for line in file]\n",
        "        return lines\n",
        "    except FileNotFoundError:\n",
        "        print(f\"Error: File '{filename}' not found.\")\n",
        "        return []\n",
        "\n",
        "# Test the function\n",
        "filename = 'example.txt'\n",
        "lines = read_file(filename)\n",
        "print(lines)\n"
      ],
      "metadata": {
        "colab": {
          "base_uri": "https://localhost:8080/"
        },
        "id": "_S32JBDstuhs",
        "outputId": "ce65cff5-9b71-49e4-d321-5d9a19e6b19c"
      },
      "execution_count": null,
      "outputs": [
        {
          "output_type": "stream",
          "name": "stdout",
          "text": [
            "['My assignment task']\n"
          ]
        }
      ]
    },
    {
      "cell_type": "code",
      "source": [
        "#QSN-10-How can you append data to an existing file in Python.\n",
        "def append_to_file(filename, data):\n",
        "    try:\n",
        "        with open(filename, 'a') as file:\n",
        "            file.write(data + \"\\n\")\n",
        "        print(f\"Data appended to {filename} successfully.\")\n",
        "    except Exception as e:\n",
        "        print(f\"An error occurred: {e}\")\n",
        "filename = 'example.txt'\n",
        "data = 'This is new data.'\n",
        "append_to_file(filename, data)\n",
        "\n"
      ],
      "metadata": {
        "colab": {
          "base_uri": "https://localhost:8080/"
        },
        "id": "I0zItOlVuD3S",
        "outputId": "196b1b47-4eb6-4d96-a06a-c3c9a302c620"
      },
      "execution_count": null,
      "outputs": [
        {
          "output_type": "stream",
          "name": "stdout",
          "text": [
            "Data appended to example.txt successfully.\n"
          ]
        }
      ]
    },
    {
      "cell_type": "code",
      "source": [
        "#QSN-11-Write a Python program that uses a try-except block to handle an error when attempting to access a dictionary key that doesn't exist.\n",
        "def access_dict_key(dictionary, key):\n",
        "    try:\n",
        "        value = dictionary[key]\n",
        "        print(f\"The value of '{key}' is: {value}\")\n",
        "    except KeyError:\n",
        "        print(f\"Error: Key '{key}' not found in dictionary.\")\n",
        "\n",
        "# Test the function\n",
        "person = {\n",
        "    \"name\": \"Gaurab\",\n",
        "    \"course fee\":2000,\n",
        "    \"course\": \"D.A\"\n",
        "}\n",
        "\n",
        "access_dict_key(person, \"name\")  # Key exists\n",
        "access_dict_key(person, \"institute\")  # Key doesn't exist\n",
        "\n"
      ],
      "metadata": {
        "colab": {
          "base_uri": "https://localhost:8080/"
        },
        "id": "M8HrHScBvd1f",
        "outputId": "bca41952-a542-4d9e-da89-b12b6aee0e3c"
      },
      "execution_count": null,
      "outputs": [
        {
          "output_type": "stream",
          "name": "stdout",
          "text": [
            "The value of 'name' is: Gaurab\n",
            "Error: Key 'institute' not found in dictionary.\n"
          ]
        }
      ]
    },
    {
      "cell_type": "code",
      "source": [
        "#QSN-12-Write a program that demonstrates using multiple except blocks to handle different types of exceptions.\n",
        "def calculate_average(numbers):\n",
        "    try:\n",
        "        total = sum(numbers)\n",
        "        average = total / len(numbers)\n",
        "        print(f\"The average is: {average}\")\n",
        "    except ZeroDivisionError:\n",
        "        print(\"Error: Cannot calculate average of an empty list.\")\n",
        "    except TypeError:\n",
        "        print(\"Error: Invalid input type. Please enter a list of numbers.\")\n",
        "    except ValueError:\n",
        "        print(\"Error: Invalid value in the list. Please enter numbers only.\")\n",
        "    except Exception as e:\n",
        "        print(f\"An unexpected error occurred: {e}\")\n",
        "\n",
        "# Test the function\n",
        "calculate_average([1, 2, 3, 4, 5])  # Valid input\n",
        "calculate_average([])  # Empty list\n",
        "calculate_average('a')  # Invalid input type\n",
        "calculate_average([1, 2, 'a', 4, 5])  # Invalid value in the list\n"
      ],
      "metadata": {
        "colab": {
          "base_uri": "https://localhost:8080/"
        },
        "id": "lBk6mo_m9Slm",
        "outputId": "565cc43a-b0f2-47ee-ee19-f73890c4da00"
      },
      "execution_count": null,
      "outputs": [
        {
          "output_type": "stream",
          "name": "stdout",
          "text": [
            "The average is: 3.0\n",
            "Error: Cannot calculate average of an empty list.\n",
            "Error: Invalid input type. Please enter a list of numbers.\n",
            "Error: Invalid input type. Please enter a list of numbers.\n"
          ]
        }
      ]
    },
    {
      "cell_type": "code",
      "source": [
        "#QSN-13-How would you check if a file exists before attempting to read it in Python.\n",
        "def check_file_exists(filename):\n",
        "    try:\n",
        "        with open(filename, 'r') as file:\n",
        "            print(f\"{filename} exists.\")\n",
        "    except FileNotFoundError:\n",
        "        print(f\"{filename} does not exist.\")\n",
        "\n",
        "# Test the function\n",
        "filename = 'example.txt'\n",
        "check_file_exists(filename)"
      ],
      "metadata": {
        "colab": {
          "base_uri": "https://localhost:8080/"
        },
        "id": "mXowZpRI9xVM",
        "outputId": "c725f97e-bb9c-41bd-f4b3-5774bd9ebbea"
      },
      "execution_count": null,
      "outputs": [
        {
          "output_type": "stream",
          "name": "stdout",
          "text": [
            "example.txt does not exist.\n"
          ]
        }
      ]
    },
    {
      "cell_type": "code",
      "source": [
        "#QSN-14-Write a program that uses the logging module to log both informational and error messages.\n",
        "import logging\n",
        "\n",
        "# Set the logging level to DEBUG\n",
        "logging.basicConfig(level=logging.DEBUG, format='%(asctime)s - %(levelname)s - %(message)s')\n",
        "\n",
        "def add_numbers(num1, num2):\n",
        "    try:\n",
        "        result = num1 + num2\n",
        "        logging.info(f\"Added {num1} and {num2}. Result: {result}\")\n",
        "        return result\n",
        "    except TypeError:\n",
        "        logging.error(\"Error: Invalid input type. Please enter numbers only.\")\n",
        "    except Exception as e:\n",
        "        logging.error(f\"An unexpected error occurred: {e}\")\n",
        "\n",
        "# Test the function\n",
        "result = add_numbers(5, 3)\n",
        "print(result)\n",
        "\n",
        "result = add_numbers(5, 'a')\n",
        "print(result)\n"
      ],
      "metadata": {
        "colab": {
          "base_uri": "https://localhost:8080/"
        },
        "id": "YundEJHfGrAs",
        "outputId": "d0f5ffb5-4298-476f-d496-796cba4d0c95"
      },
      "execution_count": null,
      "outputs": [
        {
          "output_type": "stream",
          "name": "stderr",
          "text": [
            "ERROR:root:Error: Invalid input type. Please enter numbers only.\n"
          ]
        },
        {
          "output_type": "stream",
          "name": "stdout",
          "text": [
            "8\n",
            "None\n"
          ]
        }
      ]
    },
    {
      "cell_type": "code",
      "source": [
        "#QSN-15-Write a Python program that prints the content of a file and handles the case when the file is empty.\n",
        "def print_file_content(filename):\n",
        "    try:\n",
        "        with open(filename, 'r') as file:\n",
        "            content = file.read()\n",
        "            if content.strip() == \"\":\n",
        "                print(f\"The file '{filename}' is empty.\")\n",
        "            else:\n",
        "                print(f\"Content of '{filename}':\")\n",
        "                print(content)\n",
        "    except FileNotFoundError:\n",
        "        print(f\"Error: The file '{filename}' was not found.\")\n",
        "    except Exception as e:\n",
        "        print(f\"An error occurred: {e}\")\n",
        "\n",
        "# Test the function\n",
        "filename = 'example.txt'\n",
        "print_file_content(filename)"
      ],
      "metadata": {
        "colab": {
          "base_uri": "https://localhost:8080/"
        },
        "id": "2aD5DI18HGrs",
        "outputId": "cab126f3-8561-4204-a452-de9349d78eb0"
      },
      "execution_count": null,
      "outputs": [
        {
          "output_type": "stream",
          "name": "stdout",
          "text": [
            "Error: The file 'example.txt' was not found.\n"
          ]
        }
      ]
    },
    {
      "cell_type": "code",
      "source": [
        "#QSN-16-Demonstrate how to use memory profiling to check the memory usage of a small program.\n",
        "\n",
        "import random\n",
        "import string\n",
        "\n",
        "def create_large_dict(size):\n",
        "    large_dict = {}\n",
        "    for _ in range(size):\n",
        "        key = ''.join(random.choice(string.ascii_letters) for _ in range(10))\n",
        "        value = ''.join(random.choice(string.ascii_letters) for _ in range(100))\n",
        "        large_dict[key] = value\n",
        "    return large_dict\n",
        "\n",
        "def main():\n",
        "    large_dict = create_large_dict(100000)\n",
        "    print(\"Large dictionary created\")\n",
        "\n",
        "if __name__ == \"__main__\":\n",
        "    main()"
      ],
      "metadata": {
        "colab": {
          "base_uri": "https://localhost:8080/"
        },
        "id": "0N1Bk8VlHodt",
        "outputId": "9fde9425-7d9d-4364-e71e-812840541de7"
      },
      "execution_count": null,
      "outputs": [
        {
          "output_type": "stream",
          "name": "stdout",
          "text": [
            "Large dictionary created\n"
          ]
        }
      ]
    },
    {
      "cell_type": "code",
      "source": [
        "#QSN-Write a Python program to create and write a list of numbers to a file, one number per line.\n",
        "\n",
        "def write_numbers_to_file(filename, numbers):\n",
        "    try:\n",
        "        with open(filename, 'w') as file:\n",
        "            file.write(\"\\n\".join(map(str, numbers)))\n",
        "        print(f\"Numbers written to {filename} successfully.\")\n",
        "    except Exception as e:\n",
        "        print(f\"An error occurred: {e}\")\n",
        "\n",
        "# Test the function\n",
        "filename = 'numbers.txt'\n",
        "numbers = [1, 2, 3, 4, 5, 6, 7, 8, 9, 10]\n",
        "write_numbers_to_file(filename, numbers)\n"
      ],
      "metadata": {
        "colab": {
          "base_uri": "https://localhost:8080/"
        },
        "id": "zaGlNe9pIG39",
        "outputId": "34dd7057-08eb-431e-f16f-a307ad855f99"
      },
      "execution_count": null,
      "outputs": [
        {
          "output_type": "stream",
          "name": "stdout",
          "text": [
            "Numbers written to numbers.txt successfully.\n"
          ]
        }
      ]
    },
    {
      "cell_type": "code",
      "source": [
        "#QSN-18-How would you implement a basic logging setup that logs to a file with rotation after 1MB.\n",
        "import logging\n",
        "from logging.handlers import RotatingFileHandler\n",
        "logger = logging.getLogger(__name__)\n",
        "logger.setLevel(logging.DEBUG)\n",
        "file_handler = RotatingFileHandler('app.log', maxBytes=1*1024*1024, backupCount=5)\n",
        "file_handler.setLevel(logging.DEBUG)\n",
        "formatter = logging.Formatter('%(asctime)s - %(name)s - %(levelname)s - %(message)s')\n",
        "file_handler.setFormatter(formatter)\n",
        "logger.addHandler(file_handler)\n",
        "\n",
        "logger.debug('This is a debug message')\n",
        "logger.info('This is an info message')\n",
        "logger.warning('This is a warning message')\n",
        "logger.error('This is an error message')\n",
        "logger.critical('This is a critical message')\n"
      ],
      "metadata": {
        "colab": {
          "base_uri": "https://localhost:8080/"
        },
        "id": "_yDfGFheIlrf",
        "outputId": "c253407c-ea85-4f72-c282-209f4c5c4121"
      },
      "execution_count": null,
      "outputs": [
        {
          "output_type": "stream",
          "name": "stderr",
          "text": [
            "DEBUG:__main__:This is a debug message\n",
            "INFO:__main__:This is an info message\n",
            "WARNING:__main__:This is a warning message\n",
            "ERROR:__main__:This is an error message\n",
            "CRITICAL:__main__:This is a critical message\n"
          ]
        }
      ]
    },
    {
      "cell_type": "code",
      "source": [
        "#QSN-19-Write a program that handles both IndexError and KeyError using a try-except block.\n",
        "def access_data(data, index, key):\n",
        "    try:\n",
        "        value = data[index][key]\n",
        "        print(f\"Value at index {index} with key '{key}': {value}\")\n",
        "    except IndexError:\n",
        "        print(f\"Error: Index {index} is out of range.\")\n",
        "    except KeyError:\n",
        "        print(f\"Error: Key '{key}' not found in dictionary.\")\n",
        "    except Exception as e:\n",
        "        print(f\"An unexpected error occurred: {e}\")\n",
        "data = [\n",
        "    {\"name\": \"Gaurab\", \"age\": 32},\n",
        "    {\"name\": \"Saurab\", \"age\": 23}\n",
        "]\n",
        "\n",
        "access_data(data, 0, \"name\")  # Valid index and key\n",
        "access_data(data, 2, \"name\")  # Invalid index\n",
        "access_data(data, 0, \"city\")  # Invalid key\n"
      ],
      "metadata": {
        "colab": {
          "base_uri": "https://localhost:8080/"
        },
        "id": "GsOK0PImJLgr",
        "outputId": "cb7bb530-f44c-48cc-a3fe-8343a0e522d8"
      },
      "execution_count": null,
      "outputs": [
        {
          "output_type": "stream",
          "name": "stdout",
          "text": [
            "Value at index 0 with key 'name': Gaurab\n",
            "Error: Index 2 is out of range.\n",
            "Error: Key 'city' not found in dictionary.\n"
          ]
        }
      ]
    },
    {
      "cell_type": "code",
      "source": [
        "#QSN-20-How would you open a file and read its contents using a context manager in Python.\n",
        "def read_file_contents(filename):\n",
        "    try:\n",
        "        with open(filename, 'r') as file:\n",
        "            contents = file.read()\n",
        "            return contents\n",
        "    except FileNotFoundError:\n",
        "        print(f\"Error: File '{filename}' not found.\")\n",
        "        return None\n",
        "    except Exception as e:\n",
        "        print(f\"An error occurred: {e}\")\n",
        "        return None\n",
        "filename = 'example.txt'\n",
        "contents = read_file_contents(filename)\n",
        "if contents is not None:\n",
        "    print(f\"Contents of '{filename}':\")\n",
        "    print(contents)"
      ],
      "metadata": {
        "colab": {
          "base_uri": "https://localhost:8080/"
        },
        "id": "oKlyX7GtJwa_",
        "outputId": "3fa80232-5cf5-40ce-a9c5-1034649df3bc"
      },
      "execution_count": null,
      "outputs": [
        {
          "output_type": "stream",
          "name": "stdout",
          "text": [
            "Error: File 'example.txt' not found.\n"
          ]
        }
      ]
    },
    {
      "cell_type": "code",
      "source": [
        "#QSN-21-Write a Python program that reads a file and prints the number of occurrences of a specific word.\n",
        "def count_word_occurrences(filename, word):\n",
        "    try:\n",
        "        with open(filename, 'r') as file:\n",
        "            contents = file.read()\n",
        "            words = contents.split()\n",
        "            word_count = words.count(word.lower())\n",
        "            return word_count\n",
        "    except FileNotFoundError:\n",
        "        print(f\"Error: File '{filename}' not found.\")\n",
        "        return None\n",
        "    except Exception as e:\n",
        "        print(f\"An error occurred: {e}\")\n",
        "        return None\n",
        "\n",
        "def main():\n",
        "    filename = input(\"Enter the filename: \")\n",
        "    word = input(\"Enter the word to search for: \")\n",
        "    word_count = count_word_occurrences(filename, word)\n",
        "    if word_count is not None:\n",
        "        print(f\"The word '{word}' occurs {word_count} times in '{filename}'.\")\n",
        "\n",
        "if __name__ == \"__main__\":\n",
        "    main()"
      ],
      "metadata": {
        "colab": {
          "base_uri": "https://localhost:8080/"
        },
        "id": "h3oHqqE2KM4G",
        "outputId": "ab23e43f-585e-421f-bd52-c260ff1f6833"
      },
      "execution_count": null,
      "outputs": [
        {
          "output_type": "stream",
          "name": "stdout",
          "text": [
            "Enter the filename: Task of Gaurab\n",
            "Enter the word to search for: this is my assignment\n",
            "Error: File 'Task of Gaurab' not found.\n"
          ]
        }
      ]
    },
    {
      "cell_type": "code",
      "source": [
        "#QSN-22-How can you check if a file is empty before attempting to read its contents.\n",
        "def is_file_empty(filename):\n",
        "    try:\n",
        "        with open(filename, 'r') as file:\n",
        "            return len(file.read()) == 0\n",
        "    except FileNotFoundError:\n",
        "        print(f\"Error: File '{filename}' not found.\")\n",
        "        return True\n",
        "\n",
        "filename = 'example.txt'\n",
        "if is_file_empty(filename):\n",
        "    print(f\"The file '{filename}' is empty.\")\n",
        "else:\n",
        "    with open(filename, 'r') as file:\n",
        "        contents = file.read()\n",
        "        print(contents)"
      ],
      "metadata": {
        "colab": {
          "base_uri": "https://localhost:8080/"
        },
        "id": "L3F4jND-KkZD",
        "outputId": "cad80225-d9bd-4de2-c7f8-b910868f17f6"
      },
      "execution_count": null,
      "outputs": [
        {
          "output_type": "stream",
          "name": "stdout",
          "text": [
            "Error: File 'example.txt' not found.\n",
            "The file 'example.txt' is empty.\n"
          ]
        }
      ]
    },
    {
      "cell_type": "code",
      "source": [
        "#QSN-23-Write a Python program that writes to a log file when an error occurs during file handling.\n",
        "import logging\n",
        "logger = logging.getLogger(__name__)\n",
        "logger.setLevel(logging.ERROR)\n",
        "file_handler = logging.FileHandler('file_handling_errors.log')\n",
        "formatter = logging.Formatter('%(asctime)s - %(name)s - %(levelname)s - %(message)s')\n",
        "file_handler.setFormatter(formatter)\n",
        "logger.addHandler(file_handler)\n",
        "\n",
        "def handle_file(filename):\n",
        "    try:\n",
        "        with open(filename, 'r') as file:\n",
        "            contents = file.read()\n",
        "            print(contents)\n",
        "    except FileNotFoundError:\n",
        "        logger.error(f\"File '{filename}' not found.\")\n",
        "    except PermissionError:\n",
        "        logger.error(f\"Permission denied to access file '{filename}'.\")\n",
        "    except Exception as e:\n",
        "        logger.error(f\"An error occurred while handling file '{filename}': {e}\")\n",
        "handle_file('example.txt')\n",
        "handle_file('non_existent_file.txt')\n"
      ],
      "metadata": {
        "colab": {
          "base_uri": "https://localhost:8080/"
        },
        "id": "SsPIP-QuLs0b",
        "outputId": "fba67ec9-c134-4cde-a87a-2412aec1e2f0"
      },
      "execution_count": null,
      "outputs": [
        {
          "output_type": "stream",
          "name": "stderr",
          "text": [
            "ERROR:__main__:File 'example.txt' not found.\n",
            "ERROR:__main__:File 'non_existent_file.txt' not found.\n"
          ]
        }
      ]
    },
    {
      "cell_type": "code",
      "source": [],
      "metadata": {
        "id": "tp61YlIMMSUR"
      },
      "execution_count": null,
      "outputs": []
    }
  ]
}